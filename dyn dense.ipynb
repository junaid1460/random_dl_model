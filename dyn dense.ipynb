{
 "cells": [
  {
   "cell_type": "code",
   "execution_count": 27,
   "metadata": {},
   "outputs": [],
   "source": [
    "import pandas as pd\n",
    "import numpy as np\n",
    "from keras.layers import Dense, LSTM, Dropout, Activation, Embedding, Flatten, MaxPool2D, UpSampling2D\n",
    "from keras.layers import Conv2D, Reshape, Conv1D\n",
    "from keras.models import Sequential\n",
    "from keras.utils import to_categorical\n",
    "from keras.preprocessing.sequence import pad_sequences\n",
    "import math\n",
    "import matplotlib.pyplot as plt\n",
    "from keras.initializers import Constant, glorot_normal"
   ]
  },
  {
   "cell_type": "code",
   "execution_count": 9,
   "metadata": {
    "collapsed": true
   },
   "outputs": [],
   "source": [
    "from keras.datasets import mnist"
   ]
  },
  {
   "cell_type": "code",
   "execution_count": 36,
   "metadata": {
    "collapsed": true
   },
   "outputs": [],
   "source": [
    "def newNode(units, hidden, input_shape ):\n",
    "    model = Sequential()\n",
    "    model.add(Dense(units = hidden, input_shape = input_shape, activation = 'sigmoid'))\n",
    "    model.compile(loss='mse', optimizer = 'adagrad', metrics = ['accuracy'])\n",
    "    modelx = Sequential()\n",
    "    modelx.add(model)\n",
    "    modelx.add(Dense(units = units, activation = 'sigmoid'))\n",
    "    modelx.compile(loss='mse', optimizer = 'adagrad', metrics = ['accuracy'])\n",
    "    return modelx, model\n",
    "\n",
    "\n",
    "\n",
    "def getDecisionMaker( input_shape ):\n",
    "    model = Sequential()\n",
    "    model.add(Dense(units = 2, input_shape = input_shape,\n",
    "                    activation = 'sigmoid', \n",
    "                    kernel_initializer=glorot_normal(seed=0.1)))\n",
    "    model.compile(loss='mse', optimizer = 'adagrad', metrics = ['accuracy'])\n",
    "    model.trainable = False\n",
    "    for l in model.layers:\n",
    "        l.trainable = False\n",
    "        \n",
    "    return model\n",
    "    "
   ]
  },
  {
   "cell_type": "code",
   "execution_count": 35,
   "metadata": {},
   "outputs": [],
   "source": [
    "model_count = 0\n",
    "dm = getDecisionMaker((784,))\n",
    "dm.save_weights('dmconstant')"
   ]
  },
  {
   "cell_type": "code",
   "execution_count": 10,
   "metadata": {
    "collapsed": true
   },
   "outputs": [],
   "source": [
    "images = mnist.load_data()"
   ]
  },
  {
   "cell_type": "code",
   "execution_count": 61,
   "metadata": {},
   "outputs": [],
   "source": [
    "train, test = images\n",
    "test_x, test_y = test\n",
    "train_x, train_y = train\n",
    "test_x = test_x.reshape(10000, 784)\n",
    "train_x = train_x.reshape(60000, 784)\n",
    "train_y = to_categorical(train_y, num_classes=10)\n",
    "test_y = to_categorical(test_y, num_classes=10)"
   ]
  },
  {
   "cell_type": "code",
   "execution_count": 76,
   "metadata": {},
   "outputs": [],
   "source": [
    "t, p = newNode(10, 784, (784,))\n",
    "tl, pl = newNode(10, 784, (784,))\n",
    "tr, pr = newNode(10, 784, (784,))\n"
   ]
  },
  {
   "cell_type": "code",
   "execution_count": 53,
   "metadata": {
    "collapsed": true
   },
   "outputs": [],
   "source": [
    "def mkd(a, b):\n",
    "    if a > b:\n",
    "        return 0, a\n",
    "    return 1, b"
   ]
  },
  {
   "cell_type": "code",
   "execution_count": 115,
   "metadata": {},
   "outputs": [
    {
     "name": "stdout",
     "output_type": "stream",
     "text": [
      "epoch :    2001, loss: 0.001701, acc: 0.989005, left : 0.320, right : 0.680\n",
      "epoch :    2001, loss: 0.001670, acc: 0.989005, left : 0.318, right : 0.682\n",
      "epoch :    2001, loss: 0.001638, acc: 0.989005, left : 0.317, right : 0.683\n",
      "epoch :    2001, loss: 0.001596, acc: 0.989005, left : 0.319, right : 0.681\n",
      "epoch :    2001, loss: 0.001566, acc: 0.989005, left : 0.320, right : 0.680\n",
      "epoch :    2001, loss: 0.001534, acc: 0.989005, left : 0.320, right : 0.680\n",
      "epoch :    2001, loss: 0.001511, acc: 0.989005, left : 0.320, right : 0.680\n",
      "epoch :    2001, loss: 0.001492, acc: 0.989005, left : 0.321, right : 0.679\n",
      "epoch :    2001, loss: 0.001470, acc: 0.989005, left : 0.321, right : 0.679\n",
      "epoch :    2001, loss: 0.001456, acc: 0.989005, left : 0.320, right : 0.680\n"
     ]
    }
   ],
   "source": [
    "for _ in range(10):\n",
    "    count = 1\n",
    "    totl = 0\n",
    "    tota = 0\n",
    "    ll, rr = 0, 0\n",
    "    for x, y in zip(train_x[:2000], train_y):\n",
    "        x = np.array([x])\n",
    "        y = np.array([y])\n",
    "        h = t.fit(x, y, epochs=1, verbose = 0)\n",
    "    #     print(\"root :\", h.history['loss'], h.history['acc'])\n",
    "        l, r = dm.predict(p.predict(x))[0]\n",
    "        x = p.predict(x)\n",
    "        if l > r:\n",
    "            h = tl.fit(x, y, epochs=1, verbose = 0)\n",
    "    #         print(\"left :\", h.history['loss'], h.history['acc'])\n",
    "            ll += 1\n",
    "        else:\n",
    "    #         print(\"right\")\n",
    "            h = tr.fit(x, y, epochs=1, verbose = 0)\n",
    "\n",
    "    #         print(\"right :\", h.history['loss'], h.history['acc'])\n",
    "        loss, acc = (h.history['loss'][0],h.history['acc'][0])\n",
    "        totl += loss\n",
    "        tota += acc\n",
    "        rand = ll / count\n",
    "        randr = abs(1 -rand)\n",
    "        print(\"epoch : {:7d}, loss: {:.6f}, acc: {:.6f}, left : {:.3f}, right : {:.3f}\".format(\n",
    "            count,totl/ count,tota/ count, rand, randr), end = '\\r')\n",
    "        count += 1\n",
    "    print(\"epoch : {:7d}, loss: {:.6f}, acc: {:.6f}, left : {:.3f}, right : {:.3f}\".format(\n",
    "            count,totl/ count,tota/ count, rand, randr))\n",
    "    \n",
    "        \n",
    "   "
   ]
  }
 ],
 "metadata": {
  "kernelspec": {
   "display_name": "Python 3",
   "language": "python",
   "name": "python3"
  },
  "language_info": {
   "codemirror_mode": {
    "name": "ipython",
    "version": 3
   },
   "file_extension": ".py",
   "mimetype": "text/x-python",
   "name": "python",
   "nbconvert_exporter": "python",
   "pygments_lexer": "ipython3",
   "version": "3.5.2"
  }
 },
 "nbformat": 4,
 "nbformat_minor": 2
}
